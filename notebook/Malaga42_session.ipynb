{
 "cells": [
  {
   "cell_type": "code",
   "execution_count": 1,
   "id": "ad8b53ce",
   "metadata": {},
   "outputs": [],
   "source": [
    "import os\n",
    "from dotenv import load_dotenv"
   ]
  },
  {
   "cell_type": "code",
   "execution_count": 2,
   "id": "d26e9840",
   "metadata": {},
   "outputs": [
    {
     "data": {
      "text/plain": [
       "True"
      ]
     },
     "execution_count": 2,
     "metadata": {},
     "output_type": "execute_result"
    }
   ],
   "source": [
    "load_dotenv()"
   ]
  },
  {
   "cell_type": "markdown",
   "id": "2de2c2dc-2c36-4f08-a4a5-08a2c6aa8376",
   "metadata": {
    "jp-MarkdownHeadingCollapsed": true
   },
   "source": [
    "# 1. OpenAI API and its Cost"
   ]
  },
  {
   "cell_type": "code",
   "execution_count": 3,
   "id": "d718d084-0d79-414d-af5e-773a67071b18",
   "metadata": {},
   "outputs": [],
   "source": [
    "import openai"
   ]
  },
  {
   "cell_type": "markdown",
   "id": "8ac576ff-0917-4eed-a2ed-339dec82e1e0",
   "metadata": {},
   "source": [
    "Let's look at how the OpenAI API works:"
   ]
  },
  {
   "cell_type": "code",
   "execution_count": 4,
   "id": "a33237a0-8fbd-4811-bedf-6544f2d4d246",
   "metadata": {},
   "outputs": [],
   "source": [
    "question = \"What is the closest star to Earth?\"\n",
    "\n",
    "messages = [\n",
    "    {\n",
    "        \"role\": \"user\",\n",
    "        \"content\": question\n",
    "    }\n",
    "]\n",
    "\n",
    "response = openai.ChatCompletion.create(\n",
    "    model=\"gpt-3.5-turbo\",\n",
    "    messages=messages,\n",
    "    temperature=0\n",
    ")"
   ]
  },
  {
   "cell_type": "code",
   "execution_count": 5,
   "id": "bdbee423-68f5-4577-a552-7e6b04efd7f2",
   "metadata": {},
   "outputs": [
    {
     "data": {
      "text/plain": [
       "dict_keys(['id', 'object', 'created', 'model', 'choices', 'usage'])"
      ]
     },
     "execution_count": 5,
     "metadata": {},
     "output_type": "execute_result"
    }
   ],
   "source": [
    "response.keys()"
   ]
  },
  {
   "cell_type": "code",
   "execution_count": 6,
   "id": "1fb44a80-3498-4579-b900-fbf3a81e4d93",
   "metadata": {},
   "outputs": [
    {
     "data": {
      "text/plain": [
       "dict_keys(['index', 'message', 'finish_reason'])"
      ]
     },
     "execution_count": 6,
     "metadata": {},
     "output_type": "execute_result"
    }
   ],
   "source": [
    "response.choices[0].keys()"
   ]
  },
  {
   "cell_type": "code",
   "execution_count": 7,
   "id": "926d2fe3-6dd2-4193-8d68-b4abec3675ff",
   "metadata": {},
   "outputs": [
    {
     "name": "stdout",
     "output_type": "stream",
     "text": [
      "{\n",
      "  \"role\": \"assistant\",\n",
      "  \"content\": \"The closest star to Earth is the Sun.\"\n",
      "}\n"
     ]
    }
   ],
   "source": [
    "print(response.choices[0].message)"
   ]
  },
  {
   "cell_type": "markdown",
   "id": "84fbf448-5644-4852-9308-1e5a3c0e8e6c",
   "metadata": {},
   "source": [
    "This is the answer \"message\". Note that the AI is called \"assistant\"."
   ]
  },
  {
   "cell_type": "markdown",
   "id": "23d22ce9-2438-48fd-a8f0-39d692ac811e",
   "metadata": {},
   "source": [
    "Another important information is the number of tokens used, as that tells us the cost of the API call:"
   ]
  },
  {
   "cell_type": "code",
   "execution_count": 8,
   "id": "d985aea8-96a8-4e97-96c4-2945a995af43",
   "metadata": {},
   "outputs": [
    {
     "name": "stdout",
     "output_type": "stream",
     "text": [
      "{\n",
      "  \"prompt_tokens\": 15,\n",
      "  \"completion_tokens\": 9,\n",
      "  \"total_tokens\": 24\n",
      "}\n"
     ]
    }
   ],
   "source": [
    "print(response.usage)"
   ]
  },
  {
   "cell_type": "markdown",
   "id": "75150791-a4b5-47dd-b796-46848822b045",
   "metadata": {},
   "source": [
    "Looking up the costs on openai website, we find:\n",
    "- 0.0015 USD per 1000 prompt tokens\n",
    "- 0.0020 USD per 1000 completion tokens\n",
    "\n",
    "So, the total cost is:"
   ]
  },
  {
   "cell_type": "code",
   "execution_count": 9,
   "id": "0e496325-af7b-44a9-b814-335b63e6d02c",
   "metadata": {},
   "outputs": [],
   "source": [
    "prompt_cost = 0.0015\n",
    "completion_cost = 0.0020\n",
    "\n",
    "cost = (response.usage.prompt_tokens * prompt_cost + response.usage.completion_tokens * completion_cost)/1000"
   ]
  },
  {
   "cell_type": "code",
   "execution_count": 10,
   "id": "f16a86e0-9a50-439f-aaea-aa1ec8c8565b",
   "metadata": {},
   "outputs": [
    {
     "name": "stdout",
     "output_type": "stream",
     "text": [
      "0.000041 USD\n"
     ]
    }
   ],
   "source": [
    "print(f\"{cost:.6f} USD\")"
   ]
  },
  {
   "cell_type": "markdown",
   "id": "ad103fe9-3d49-4a30-a311-0a26213872a1",
   "metadata": {},
   "source": [
    "Let's wrap this together in a class:"
   ]
  },
  {
   "cell_type": "code",
   "execution_count": 11,
   "id": "294728d4-4bea-4b89-b069-98f94d85b87b",
   "metadata": {},
   "outputs": [],
   "source": [
    "class BaseAgent:\n",
    "    \n",
    "    def __init__(self, model=\"gpt-3.5-turbo\", prices=[0.0015, 0.0020]):\n",
    "        self.model = model\n",
    "        self.prompt_cost = prices[0]\n",
    "        self.completion_cost = prices[1]\n",
    "        self.cost_list = []\n",
    "        self.total_cost = 0\n",
    "        \n",
    "    def reply(self, question):\n",
    "        \n",
    "        messages = [\n",
    "            {\n",
    "                \"role\": \"user\",\n",
    "                \"content\": question\n",
    "            }\n",
    "        ]\n",
    "        \n",
    "        response = openai.ChatCompletion.create(\n",
    "            model=self.model,\n",
    "            messages=messages,\n",
    "            temperature=0\n",
    "        )\n",
    "        \n",
    "        self.calculate_cost(response.usage)\n",
    "        \n",
    "        message = response.choices[0].message\n",
    "        \n",
    "        print(message.content)\n",
    "\n",
    "    def calculate_cost(self, usage):\n",
    "        cost = (usage.prompt_tokens * self.prompt_cost + usage.completion_tokens * self.completion_cost)/1000\n",
    "        self.cost_list.append(cost)\n",
    "        self.total_cost += cost"
   ]
  },
  {
   "cell_type": "markdown",
   "id": "8b166643-1916-4c84-bf00-527cbcb13b1d",
   "metadata": {},
   "source": [
    "Test it:"
   ]
  },
  {
   "cell_type": "code",
   "execution_count": 12,
   "id": "a000b354-4473-463a-8eb1-d7395f243800",
   "metadata": {},
   "outputs": [],
   "source": [
    "agent = BaseAgent()"
   ]
  },
  {
   "cell_type": "code",
   "execution_count": 13,
   "id": "44e483d1-29b5-44b4-b12f-cc4a0b2f2f5f",
   "metadata": {},
   "outputs": [
    {
     "name": "stdout",
     "output_type": "stream",
     "text": [
      "The closest star to Earth is the Sun.\n"
     ]
    }
   ],
   "source": [
    "agent.reply(\"What is the closest star to Earth?\")"
   ]
  },
  {
   "cell_type": "code",
   "execution_count": 14,
   "id": "1e7f4e4c-eb4a-4531-b035-d0d7c4d040c0",
   "metadata": {},
   "outputs": [
    {
     "name": "stdout",
     "output_type": "stream",
     "text": [
      "0.000041 USD\n"
     ]
    }
   ],
   "source": [
    "print(f\"{agent.total_cost:.6f} USD\")"
   ]
  },
  {
   "cell_type": "markdown",
   "id": "56202847-c8b0-4d6d-aaec-ad12d79e9e32",
   "metadata": {},
   "source": [
    "Let's ask it another question:"
   ]
  },
  {
   "cell_type": "code",
   "execution_count": 15,
   "id": "2a9e36a8-9d4f-4d37-bdce-c0eb7f8bf790",
   "metadata": {},
   "outputs": [
    {
     "name": "stdout",
     "output_type": "stream",
     "text": [
      "In the forex context, 'USD' stands for United States Dollar. It is the official currency of the United States and is widely used as a reserve currency around the world.\n"
     ]
    }
   ],
   "source": [
    "agent.reply(\"What does 'USD' stand for in the forex context?\")"
   ]
  },
  {
   "cell_type": "code",
   "execution_count": 16,
   "id": "32561b87-08d9-4bc0-a900-225aa7d71fc2",
   "metadata": {},
   "outputs": [
    {
     "name": "stdout",
     "output_type": "stream",
     "text": [
      "0.000139 USD\n"
     ]
    }
   ],
   "source": [
    "print(f\"{agent.total_cost:.6f} USD\")"
   ]
  },
  {
   "cell_type": "markdown",
   "id": "a9cc8fb6-4a5a-424c-8c70-5062a7d2e5d1",
   "metadata": {},
   "source": [
    "We can see that `total_cost` is accumulating the costs of all questions asked."
   ]
  },
  {
   "cell_type": "code",
   "execution_count": 17,
   "id": "9c8b1233-b243-46ab-86de-4e9b7fed8e69",
   "metadata": {},
   "outputs": [
    {
     "data": {
      "text/plain": [
       "0.00013900000000000002"
      ]
     },
     "execution_count": 17,
     "metadata": {},
     "output_type": "execute_result"
    }
   ],
   "source": [
    "sum(agent.cost_list)"
   ]
  },
  {
   "cell_type": "markdown",
   "id": "afb17a0e-bf0e-43f0-b925-90d9d7ff7cce",
   "metadata": {
    "jp-MarkdownHeadingCollapsed": true
   },
   "source": [
    "# 2. It's Hard to have a Conversation with Someone that doesn't Listen"
   ]
  },
  {
   "cell_type": "code",
   "execution_count": 18,
   "id": "79d7574a-1a8f-424c-89a4-514a5d691def",
   "metadata": {},
   "outputs": [],
   "source": [
    "agent = BaseAgent()"
   ]
  },
  {
   "cell_type": "code",
   "execution_count": 19,
   "id": "451a3a1c-fb19-4b19-893d-8fa49e684938",
   "metadata": {},
   "outputs": [
    {
     "name": "stdout",
     "output_type": "stream",
     "text": [
      "Hello Andrea! How can I assist you today?\n"
     ]
    }
   ],
   "source": [
    "agent.reply(\"Hi, my name is Andrea.\")"
   ]
  },
  {
   "cell_type": "code",
   "execution_count": 20,
   "id": "777ac88c-f850-46ed-9385-ab25366eb282",
   "metadata": {},
   "outputs": [
    {
     "name": "stdout",
     "output_type": "stream",
     "text": [
      "I'm sorry, but I don't have access to personal information about individuals unless it has been shared with me in the course of our conversation.\n"
     ]
    }
   ],
   "source": [
    "agent.reply(\"What is my name?\")"
   ]
  },
  {
   "cell_type": "markdown",
   "id": "36142497-2ea9-449c-900d-75e2ec068005",
   "metadata": {},
   "source": [
    "Problem: the each call to the LLM is independent than the previous one, so the AI is ignoring the history of the conversation. To fix this, we need to give it a \"memory\":"
   ]
  },
  {
   "cell_type": "code",
   "execution_count": 21,
   "id": "5508813a-5126-4b5a-abe1-37f3e103f54d",
   "metadata": {},
   "outputs": [],
   "source": [
    "class Memory:\n",
    "    \n",
    "    def __init__(self):\n",
    "        self.messages = []\n",
    "        \n",
    "    def add(self, message):\n",
    "        self.messages.append(dict(message))\n",
    "\n",
    "    def __str__(self):\n",
    "        return \"\\n\".join([str(message) for message in self.messages])"
   ]
  },
  {
   "cell_type": "markdown",
   "id": "b78153ff-1d26-400b-9401-8f262fdcde58",
   "metadata": {},
   "source": [
    "Let's modify the `BaseAgent` class to make use of the memory:"
   ]
  },
  {
   "cell_type": "code",
   "execution_count": 22,
   "id": "3faafe02-b01b-4f5f-8448-a74ddd0d29d1",
   "metadata": {},
   "outputs": [],
   "source": [
    "class BaseAgent:\n",
    "    \n",
    "    def __init__(self, memory, model=\"gpt-3.5-turbo\", prices=[0.0015, 0.0020]):\n",
    "        self.memory = memory\n",
    "        self.model = model\n",
    "        self.prompt_cost = prices[0]\n",
    "        self.completion_cost = prices[1]\n",
    "        self.cost_list = []\n",
    "        self.total_cost = 0\n",
    "        \n",
    "    def reply(self, question):\n",
    "        \n",
    "        human_message = {\n",
    "            \"role\": \"user\",\n",
    "            \"content\": question\n",
    "        }\n",
    "        self.memory.add(human_message)\n",
    "        \n",
    "        response = openai.ChatCompletion.create(\n",
    "            model=self.model,\n",
    "            messages=self.memory.messages,\n",
    "            temperature=0\n",
    "        )\n",
    "        \n",
    "        self.calculate_cost(response.usage)\n",
    "        \n",
    "        agent_message = response.choices[0].message\n",
    "        self.memory.add(agent_message)\n",
    "        \n",
    "        print(agent_message.content)\n",
    "\n",
    "    def calculate_cost(self, usage):\n",
    "        cost = (usage.prompt_tokens * self.prompt_cost + usage.completion_tokens * self.completion_cost)/1000\n",
    "        self.cost_list.append(cost)\n",
    "        self.total_cost += cost"
   ]
  },
  {
   "cell_type": "markdown",
   "id": "647f24fa-1f2e-4e45-8205-f9adc0771d33",
   "metadata": {},
   "source": [
    "Test it:"
   ]
  },
  {
   "cell_type": "code",
   "execution_count": 23,
   "id": "66776315-8559-4035-8061-57c0a9b80be2",
   "metadata": {},
   "outputs": [],
   "source": [
    "memory = Memory()\n",
    "agent = BaseAgent(memory=memory)"
   ]
  },
  {
   "cell_type": "code",
   "execution_count": 24,
   "id": "74b8c050-bc22-4f6f-8cb0-3c8b65b7c41d",
   "metadata": {},
   "outputs": [
    {
     "name": "stdout",
     "output_type": "stream",
     "text": [
      "Hello Andrea! How can I assist you today?\n"
     ]
    }
   ],
   "source": [
    "agent.reply(\"Hi, my name is Andrea.\")"
   ]
  },
  {
   "cell_type": "code",
   "execution_count": 25,
   "id": "54e4e53d-484d-4958-a425-07fbd60a7974",
   "metadata": {},
   "outputs": [
    {
     "name": "stdout",
     "output_type": "stream",
     "text": [
      "{'role': 'user', 'content': 'Hi, my name is Andrea.'}\n",
      "{'role': 'assistant', 'content': 'Hello Andrea! How can I assist you today?'}\n"
     ]
    }
   ],
   "source": [
    "print(agent.memory)"
   ]
  },
  {
   "cell_type": "code",
   "execution_count": 26,
   "id": "ab70f95f-492c-4754-9478-9f82bf349180",
   "metadata": {},
   "outputs": [
    {
     "name": "stdout",
     "output_type": "stream",
     "text": [
      "Your name is Andrea.\n"
     ]
    }
   ],
   "source": [
    "agent.reply(\"What is my name?\")"
   ]
  },
  {
   "cell_type": "code",
   "execution_count": 27,
   "id": "b69f1684-3f5e-42d4-a790-d8536a93d45c",
   "metadata": {},
   "outputs": [
    {
     "name": "stdout",
     "output_type": "stream",
     "text": [
      "{'role': 'user', 'content': 'Hi, my name is Andrea.'}\n",
      "{'role': 'assistant', 'content': 'Hello Andrea! How can I assist you today?'}\n",
      "{'role': 'user', 'content': 'What is my name?'}\n",
      "{'role': 'assistant', 'content': 'Your name is Andrea.'}\n"
     ]
    }
   ],
   "source": [
    "print(agent.memory)"
   ]
  },
  {
   "cell_type": "markdown",
   "id": "c7b16913-bbf1-4f6c-bea4-765ccd4adfc6",
   "metadata": {},
   "source": [
    "With each exchange in the conversation, the whole history has to be sent as input to the LLM. Problems:\n",
    "\n",
    "1. LLMs have a finite input size\n",
    "2. providers (such as OpenAI) charge based on the number of tokens\n",
    "\n",
    "To solve these issues, as the memory grows, we must start deleting the oldest history."
   ]
  },
  {
   "cell_type": "markdown",
   "id": "75e99b4f-a2d7-46cf-af21-8bb07e778bdf",
   "metadata": {},
   "source": [
    "To solve the problem, we define a `delete_history` method in the `Memory` class, which counts the number of tokens of the conversation and, if that is larger than `max_tokens`, it deletes the first message."
   ]
  },
  {
   "cell_type": "code",
   "execution_count": 28,
   "id": "66dff0b7-e2ee-49c9-b0d4-9e9a2cce42a4",
   "metadata": {},
   "outputs": [],
   "source": [
    "import tiktoken"
   ]
  },
  {
   "cell_type": "code",
   "execution_count": 29,
   "id": "c9f94863-c564-405b-a36d-997950dc7e97",
   "metadata": {},
   "outputs": [],
   "source": [
    "class Memory:\n",
    "    \n",
    "    def __init__(self, max_tokens=3000):\n",
    "        self.messages = []\n",
    "        self.max_tokens = max_tokens\n",
    "        self.encoding = tiktoken.get_encoding(\"cl100k_base\")\n",
    "        \n",
    "    def add(self, message):\n",
    "        self.messages.append(dict(message))\n",
    "\n",
    "    def delete_history(self):\n",
    "        while True:\n",
    "            total_tokens = 0\n",
    "            for message in self.messages:\n",
    "                message_tokens = len(self.encoding.encode(message[\"content\"]))\n",
    "                total_tokens += message_tokens\n",
    "            if total_tokens > self.max_tokens:\n",
    "                self.messages = self.messages[1:]\n",
    "            else:\n",
    "                return\n",
    "\n",
    "    def __str__(self):\n",
    "        return \"\\n\".join([str(message) for message in self.messages])"
   ]
  },
  {
   "cell_type": "markdown",
   "id": "f9c835a3-3bfd-4c63-8533-1d72e3f9d48f",
   "metadata": {},
   "source": [
    "We then modify `BaseAgent` so as to delete the history every time the API is called. We do so by moving the logic to a new method `generate_response`, so that `reply` is cleaner:"
   ]
  },
  {
   "cell_type": "code",
   "execution_count": 30,
   "id": "c9613f90-ad08-4410-9a4a-881cbfee4e81",
   "metadata": {},
   "outputs": [],
   "source": [
    "class BaseAgent:\n",
    "    \n",
    "    def __init__(self, memory, model=\"gpt-3.5-turbo\", prices=[0.0015, 0.0020]):\n",
    "        self.memory = memory\n",
    "        self.model = model\n",
    "        self.prompt_cost = prices[0]\n",
    "        self.completion_cost = prices[1]\n",
    "        self.cost_list = []\n",
    "        self.total_cost = 0\n",
    "        \n",
    "    def reply(self, question):\n",
    "\n",
    "        human_message = {\n",
    "            \"role\": \"user\",\n",
    "            \"content\": question\n",
    "        }\n",
    "        self.memory.add(human_message)\n",
    "        \n",
    "        agent_message = self.generate_response()\n",
    "        self.memory.add(agent_message)\n",
    "\n",
    "        print(agent_message.content)\n",
    "\n",
    "    def generate_response(self):\n",
    "        \n",
    "        self.memory.delete_history()\n",
    "        \n",
    "        response = openai.ChatCompletion.create(\n",
    "            model=self.model,\n",
    "            messages=self.memory.messages,\n",
    "            temperature=0\n",
    "        )\n",
    "\n",
    "        self.calculate_cost(response.usage)\n",
    "\n",
    "        agent_message = response.choices[0].message\n",
    "        \n",
    "        return agent_message\n",
    "    \n",
    "    def calculate_cost(self, usage):\n",
    "        cost = (usage.prompt_tokens * self.prompt_cost + usage.completion_tokens * self.completion_cost)/1000\n",
    "        self.cost_list.append(cost)\n",
    "        self.total_cost += cost"
   ]
  },
  {
   "cell_type": "markdown",
   "id": "c5c01f0c-3068-486c-985a-c0fa5c81c043",
   "metadata": {},
   "source": [
    "Test it:"
   ]
  },
  {
   "cell_type": "code",
   "execution_count": 31,
   "id": "555bb480-0d5f-4879-ad74-2d6665452750",
   "metadata": {},
   "outputs": [],
   "source": [
    "memory = Memory(max_tokens=30)\n",
    "agent = BaseAgent(memory=memory)"
   ]
  },
  {
   "cell_type": "code",
   "execution_count": 32,
   "id": "8e50a92b-067f-4b36-a009-4d6359c5527b",
   "metadata": {},
   "outputs": [
    {
     "name": "stdout",
     "output_type": "stream",
     "text": [
      "Nice to meet you, Andrea! How can I assist you today?\n"
     ]
    }
   ],
   "source": [
    "agent.reply(\"My name is Andrea.\")"
   ]
  },
  {
   "cell_type": "code",
   "execution_count": 33,
   "id": "5f28cce5-78a6-4404-adfd-152949c23550",
   "metadata": {},
   "outputs": [
    {
     "name": "stdout",
     "output_type": "stream",
     "text": [
      "{'role': 'user', 'content': 'My name is Andrea.'}\n",
      "{'role': 'assistant', 'content': 'Nice to meet you, Andrea! How can I assist you today?'}\n"
     ]
    }
   ],
   "source": [
    "print(agent.memory)"
   ]
  },
  {
   "cell_type": "code",
   "execution_count": 34,
   "id": "0ceaeb40-ea6c-4b2f-972c-ab5e5e360b9f",
   "metadata": {},
   "outputs": [
    {
     "name": "stdout",
     "output_type": "stream",
     "text": [
      "The sum of 1+1 is 2.\n"
     ]
    }
   ],
   "source": [
    "agent.reply(\"What is 1+1?\")"
   ]
  },
  {
   "cell_type": "code",
   "execution_count": 35,
   "id": "8cc96412-99c4-433d-b7a4-f2e51d2ec67a",
   "metadata": {},
   "outputs": [
    {
     "name": "stdout",
     "output_type": "stream",
     "text": [
      "{'role': 'user', 'content': 'My name is Andrea.'}\n",
      "{'role': 'assistant', 'content': 'Nice to meet you, Andrea! How can I assist you today?'}\n",
      "{'role': 'user', 'content': 'What is 1+1?'}\n",
      "{'role': 'assistant', 'content': 'The sum of 1+1 is 2.'}\n"
     ]
    }
   ],
   "source": [
    "print(agent.memory)"
   ]
  },
  {
   "cell_type": "code",
   "execution_count": 36,
   "id": "3f35e701-f48a-4745-8ca3-5ab8786b7a85",
   "metadata": {},
   "outputs": [
    {
     "name": "stdout",
     "output_type": "stream",
     "text": [
      "The most common word in English is \"the\".\n"
     ]
    }
   ],
   "source": [
    "agent.reply(\"What is the most common word in English?\")"
   ]
  },
  {
   "cell_type": "code",
   "execution_count": 37,
   "id": "78e3175d-1abd-4ace-8eaf-8bb983cebefb",
   "metadata": {},
   "outputs": [
    {
     "name": "stdout",
     "output_type": "stream",
     "text": [
      "{'role': 'user', 'content': 'What is 1+1?'}\n",
      "{'role': 'assistant', 'content': 'The sum of 1+1 is 2.'}\n",
      "{'role': 'user', 'content': 'What is the most common word in English?'}\n",
      "{'role': 'assistant', 'content': 'The most common word in English is \"the\".'}\n"
     ]
    }
   ],
   "source": [
    "print(agent.memory)"
   ]
  },
  {
   "cell_type": "code",
   "execution_count": 38,
   "id": "81f4423a-c058-4dd7-b33d-044963c66453",
   "metadata": {},
   "outputs": [
    {
     "name": "stdout",
     "output_type": "stream",
     "text": [
      "I'm sorry, but I don't have access to personal information about individuals unless it has been shared with me in the course of our conversation.\n"
     ]
    }
   ],
   "source": [
    "agent.reply(\"What is my name?\")"
   ]
  },
  {
   "cell_type": "markdown",
   "id": "6230e2c7-9105-47b7-ae79-4d96e03ea710",
   "metadata": {},
   "source": [
    "By playing with `max_tokens`, we can control the trade-off between larger context (and hence more reliable answer) and lower costs."
   ]
  },
  {
   "cell_type": "markdown",
   "id": "ddb6829e-3330-4f76-9897-f1ee496a9315",
   "metadata": {
    "jp-MarkdownHeadingCollapsed": true
   },
   "source": [
    "# 3. Initial Prompt and Prompt Engineering"
   ]
  },
  {
   "cell_type": "markdown",
   "id": "5431cba5-ac47-4a6c-958d-fecd111e7653",
   "metadata": {},
   "source": [
    "Until now we have not specified any \"initial instruction\" to the AI, so the only input it takes is the user's question. But what if we want the agent to act in a specific way, e.g., to talk only in one language, or to only focus on a specific subject?\n",
    "\n",
    "This can be done by passing to it an initial prompt, which in OpenAI is nothing but a message with the \"system\" role. Let's therefore add this to the `Memory` class, and modify the `delete_history` so as never to delete this first message."
   ]
  },
  {
   "cell_type": "code",
   "execution_count": 39,
   "id": "560566ad-3dcd-425b-8e97-a5c0978bbc30",
   "metadata": {},
   "outputs": [],
   "source": [
    "class Memory:\n",
    "    \n",
    "    def __init__(self, initial_prompt=None, max_tokens=3000):\n",
    "        if initial_prompt is None:\n",
    "            initial_prompt = \"\"\n",
    "        self.messages = [\n",
    "            {\n",
    "                \"role\": \"system\",\n",
    "                \"content\": initial_prompt\n",
    "            }\n",
    "        ]\n",
    "        self.max_tokens = max_tokens\n",
    "        self.encoding = tiktoken.get_encoding(\"cl100k_base\")\n",
    "        \n",
    "    def add(self, message):\n",
    "        self.messages.append(dict(message))\n",
    "\n",
    "    def delete_history(self):\n",
    "        while True:\n",
    "            total_tokens = 0\n",
    "            for message in self.messages:\n",
    "                message_tokens = len(self.encoding.encode(message[\"content\"]))\n",
    "                total_tokens += message_tokens\n",
    "            if total_tokens > self.max_tokens:\n",
    "                self.messages[1:] = self.messages[2:]\n",
    "            else:\n",
    "                return\n",
    "\n",
    "    def __str__(self):\n",
    "        return \"\\n\".join([str(message) for message in self.messages])"
   ]
  },
  {
   "cell_type": "markdown",
   "id": "defda509-f7c3-4af5-9a94-8f30e03d979a",
   "metadata": {},
   "source": [
    "Test it:"
   ]
  },
  {
   "cell_type": "code",
   "execution_count": 40,
   "id": "c60c1edb-839d-4b24-a4a2-57a16dcb9897",
   "metadata": {},
   "outputs": [],
   "source": [
    "initial_prompt = \"\"\"\n",
    "You are a finance expert. Answer the user's financial question providing technical details if needed.\n",
    "If a question is not about finance, politely decline to answer, as that is beyond your scope and expertise.\n",
    "\"\"\"\n",
    "\n",
    "memory = Memory(initial_prompt=initial_prompt)\n",
    "agent = BaseAgent(memory=memory)"
   ]
  },
  {
   "cell_type": "code",
   "execution_count": 41,
   "id": "84488e48-c505-4c18-9799-5ad76db81ce5",
   "metadata": {},
   "outputs": [
    {
     "name": "stdout",
     "output_type": "stream",
     "text": [
      "Foreign exchange (FX) volatility refers to the fluctuations in currency exchange rates. Several factors can drive FX volatility, including:\n",
      "\n",
      "1. Macroeconomic Factors: Economic indicators such as GDP growth, inflation rates, interest rates, and employment data can significantly impact currency values. Changes in these factors can lead to shifts in investor sentiment and subsequent currency volatility.\n",
      "\n",
      "2. Central Bank Policies: Monetary policy decisions by central banks, such as interest rate changes or quantitative easing measures, can have a significant impact on currency values. Central bank actions influence investor expectations and can lead to increased volatility in the FX market.\n",
      "\n",
      "3. Political and Geopolitical Events: Political instability, elections, trade disputes, and geopolitical tensions can create uncertainty in the markets and lead to increased FX volatility. Changes in government policies or unexpected events can cause currency values to fluctuate.\n",
      "\n",
      "4. Market Sentiment and Speculation: Investor sentiment and market expectations play a crucial role in FX volatility. Speculators and institutional investors often take positions based on their views of future currency movements, which can amplify volatility.\n",
      "\n",
      "5. Market Liquidity: The availability of buyers and sellers in the FX market affects liquidity. During periods of low liquidity, such as holidays or market disruptions, even small trades can have a significant impact on currency prices, leading to increased volatility.\n",
      "\n",
      "6. Commodity Prices: Currencies of countries heavily reliant on commodity exports, such as oil or metals, can be influenced by changes in commodity prices. Fluctuations in commodity prices can impact a country's terms of trade and subsequently affect its currency value.\n",
      "\n",
      "It is important to note that these factors are interconnected, and changes in one can influence others, leading to complex interactions and increased FX volatility.\n"
     ]
    }
   ],
   "source": [
    "agent.reply(\"What are some of the main drivers of FX volatility?\")"
   ]
  },
  {
   "cell_type": "code",
   "execution_count": 42,
   "id": "fda98397-459e-4777-8e4b-2b23311fd065",
   "metadata": {},
   "outputs": [
    {
     "name": "stdout",
     "output_type": "stream",
     "text": [
      "I'm sorry, but I am a finance expert and do not have the expertise to answer questions about astronomy or astrophysics. It would be best to consult an astronomer or refer to scientific sources for accurate information on the number of stars in the Milky Way.\n"
     ]
    }
   ],
   "source": [
    "agent.reply(\"How many stars are there in the Milky Way?\")"
   ]
  },
  {
   "cell_type": "markdown",
   "id": "a4cd4112-b165-4440-999a-01c33b03a1d8",
   "metadata": {},
   "source": [
    "This is just modifying the style of the AI, but you can use the prompt to fundamentally alter the nature of the agent. For example, you may use it as an \"intention classifier\":"
   ]
  },
  {
   "cell_type": "code",
   "execution_count": 43,
   "id": "38711b28-a406-4f42-b336-d0d3531083c3",
   "metadata": {},
   "outputs": [],
   "source": [
    "initial_prompt = \"\"\"\n",
    "The user will provide a restaurant review.\n",
    "If it's positive, output 1; if it's negative, output -1; in all other cases, output 0.\n",
    "\"\"\"\n",
    "\n",
    "memory = Memory(initial_prompt=initial_prompt)\n",
    "agent = BaseAgent(memory=memory)"
   ]
  },
  {
   "cell_type": "code",
   "execution_count": 44,
   "id": "96e05c76-632e-482b-ab92-0f173e98dc71",
   "metadata": {},
   "outputs": [],
   "source": [
    "user_review = \"\"\"\n",
    "Our visit was perfect! The place is outstanding and comfy. People are gentle and well educated.\n",
    "Food is amazing!! They serve a 5-course menu and everything is delicious! Their wine menu is one of the best!!!\n",
    "We had a very good time and took home sweet memories! For sure on our next visit to the city we’ll go back there!\n",
    "\"\"\""
   ]
  },
  {
   "cell_type": "code",
   "execution_count": 45,
   "id": "7a20d250-726d-4216-96b1-83e84cabf95c",
   "metadata": {},
   "outputs": [
    {
     "name": "stdout",
     "output_type": "stream",
     "text": [
      "1\n"
     ]
    }
   ],
   "source": [
    "agent.reply(user_review)"
   ]
  },
  {
   "cell_type": "markdown",
   "id": "d0e31461-2d74-49e6-a220-5bb89b91473c",
   "metadata": {},
   "source": [
    "In some cases, a little prompt engineering can make the model from bad to good:"
   ]
  },
  {
   "cell_type": "code",
   "execution_count": 46,
   "id": "dc631c39-a258-4b38-aa69-7b9ba14175c5",
   "metadata": {},
   "outputs": [
    {
     "name": "stdout",
     "output_type": "stream",
     "text": [
      "1\n"
     ]
    }
   ],
   "source": [
    "initial_prompt = \"\"\"\n",
    "The user will provide a restaurant review. From it, determine if the restaurant should be recommended to a vegan person.\n",
    "If yes, output 1; if no, output -1; in all other cases, output 0.\n",
    "\"\"\"\n",
    "\n",
    "memory = Memory(initial_prompt=initial_prompt)\n",
    "agent = BaseAgent(memory=memory)\n",
    "\n",
    "user_review = \"\"\"\n",
    "The place is so great: beautiful music and ambiance, and the food was delicious!\n",
    "The best is the angus stake, but also the bratwurst and salad was something from heaven.\n",
    "While there is no vegetarian option, the mushroom in my hamburger were spectacular.\n",
    "\"\"\"\n",
    "agent.reply(user_review)"
   ]
  },
  {
   "cell_type": "code",
   "execution_count": 47,
   "id": "9af14de1-80f8-4e2d-b5c2-9216896cc000",
   "metadata": {},
   "outputs": [
    {
     "name": "stdout",
     "output_type": "stream",
     "text": [
      "Based on the review, it seems that the restaurant does not have a specific vegetarian option, but they do have a mushroom option in the hamburger. However, the review also mentions that the best dishes are the angus steak and bratwurst, which are both meat-based. \n",
      "\n",
      "Considering this information, it is not recommended to a vegan person as the restaurant does not have a dedicated vegetarian menu and the focus seems to be on meat-based dishes. \n",
      "\n",
      "Output: -1\n"
     ]
    }
   ],
   "source": [
    "initial_prompt = \"\"\"\n",
    "The user will provide a restaurant review. From it, determine if the restaurant should be recommended to a vegan person.\n",
    "Provide a reasoning for your answer. Output your reasoning. Then in the new line output 1 if yes, -1 if no, and 0 in all other cases.\n",
    "\"\"\"\n",
    "\n",
    "memory = Memory(initial_prompt=initial_prompt)\n",
    "agent = BaseAgent(memory=memory)\n",
    "\n",
    "agent.reply(user_review)"
   ]
  },
  {
   "cell_type": "markdown",
   "id": "130ea33f-e8e1-4cf6-bc66-1bc3ba543b54",
   "metadata": {},
   "source": [
    "The final use case we look in, is if we want to have a conversation based on a specific context. For example, you could pass in the prompt a user-provided text, which the user can then query via the agent:"
   ]
  },
  {
   "cell_type": "code",
   "execution_count": 48,
   "id": "036c9da5-d5c4-4915-98e1-912087f5a7bb",
   "metadata": {},
   "outputs": [],
   "source": [
    "webpage_content = \"\"\"\n",
    "Ebury Logo\n",
    "About us\n",
    "Corporates\n",
    "Institutions\n",
    "Partner with us\n",
    "Careers\n",
    "Login\n",
    "Powering growth beyond borders.\n",
    "From payments, collections, risk management, financing and more – we help businesses maximise their global growth potential.\n",
    "\n",
    "OUR STORY\n",
    "\n",
    "We make international trade more accessible, simple and personal.\n",
    "We believe in a world where any business, big or small, should be able to transact globally with the same ease\n",
    "and reliability they experience locally. We bring together our in-house platform,\n",
    "in-depth expertise and custom solutions to help businesses go borderless and achieve their ambitions faster.\n",
    "\n",
    "\n",
    "£ 27 B transacted in FY2022\n",
    "\n",
    "1 M+ payments processed in the last 12 months\n",
    "\n",
    "50,000 + clients served worldwide\n",
    "\n",
    "1,600 + employees in 21 countries\n",
    "\n",
    "Meet our team Leadership:\n",
    "\n",
    "Peter Holmes, SVP of Client Onboarding\n",
    "Richard Hughes, SVP of Credit Risk\n",
    "Toby Young, Group Technology Director\n",
    "Venancio Gallego, Strategic Advisor\n",
    "Zafeer Ahmed, Global Head of Dealing\n",
    "Ana Muñoz Fenollosa, Group Financial Director\n",
    "Duane Swailes, SVP of Sales Acceleration & Marketing\n",
    "Enrique Colin, SVP of Product and Data\n",
    "Enrique Diaz-Alvarez, Chief Risk Officer\n",
    "Fernando Pierri, Chief Commercial Officer\n",
    "Juan Lobato, Founder & CEO\n",
    "\n",
    "JOIN OUR TEAM\n",
    "Join us as we build the international trade platform of the future and transform how businesses transact globally.\n",
    "\n",
    "Company\n",
    "Our story\n",
    "Press room\n",
    "Our global presence\n",
    "Careers\n",
    "Resource Hub\n",
    "Blog\n",
    "Podcast\n",
    "Ebury Labs\n",
    "Help Centre\n",
    "Corporate solutions\n",
    "E-commerce\n",
    "NGO's and charities\n",
    "Mass Payments\n",
    "Corporate products\n",
    "Payments and collections\n",
    "Digital platforms\n",
    "Business lending\n",
    "FX risk management\n",
    "Institutions\n",
    "Ebury Institutional Solutions\n",
    "Partner with us\n",
    "White Label Solution\n",
    "Branded affiliates\n",
    "Affiliates\n",
    "\n",
    "Get in touch with us\n",
    "We’re happy to help! Contact us to learn more.\n",
    "\n",
    "Subscribe to our blog   \n",
    "Expert insights to grow your business globally.\n",
    "\n",
    "FX Talk an Ebury podcast   \n",
    "Get a breakdown of the global markets from our experts.\n",
    "\n",
    "Join our team   \n",
    "Explore open roles across 32+ offices worldwide.\n",
    "\n",
    "Legal Privacy Notice Cookie Notice Manage cookies\n",
    "United Kingdom - English\n",
    "\n",
    "Ebury Partners UK Ltd is authorised and regulated by the Financial Conduct Authority as an Electronic Money Institution. Reference number: 900797. Ebury Partners UK Ltd is registered with the Information Commissioners Office, with registration number: ZA345828. Ebury Partners Markets Ltd is authorised and regulated by the Financial Conduct Authority as an Investment Firm to provide advice and execute trades in MiFID derivative products. Reference number: 784063. EBURY and EBURY What Borders? are trademarks.\n",
    "\n",
    "Ebury Partners UK Ltd © 2023\n",
    "\"\"\""
   ]
  },
  {
   "cell_type": "code",
   "execution_count": 49,
   "id": "63c5d723-bf74-4d28-b27d-94c4a2da05b6",
   "metadata": {},
   "outputs": [],
   "source": [
    "initial_prompt = f\"\"\"\n",
    "Answer the user's questions based solely on the following context, which comes from Ebury's website.\n",
    "\n",
    "CONTEXT:\n",
    "'''\n",
    "{webpage_content}\n",
    "'''\n",
    "\"\"\"\n",
    "\n",
    "memory = Memory(initial_prompt=initial_prompt)\n",
    "agent = BaseAgent(memory=memory)"
   ]
  },
  {
   "cell_type": "code",
   "execution_count": 50,
   "id": "1fa7330c-7cf9-4190-a738-379d346ae3fa",
   "metadata": {},
   "outputs": [
    {
     "name": "stdout",
     "output_type": "stream",
     "text": [
      "The website is about Ebury, a company that provides various services to help businesses maximize their global growth potential. These services include payments, collections, risk management, financing, and more. Ebury aims to make international trade more accessible, simple, and personal for businesses of all sizes.\n"
     ]
    }
   ],
   "source": [
    "agent.reply(\"What is the website about?\")"
   ]
  },
  {
   "cell_type": "code",
   "execution_count": 51,
   "id": "df940fbb-7b3d-4922-9f61-ed8a56462f4f",
   "metadata": {},
   "outputs": [
    {
     "name": "stdout",
     "output_type": "stream",
     "text": [
      "Peter Holmes is the Senior Vice President (SVP) of Client Onboarding at Ebury.\n"
     ]
    }
   ],
   "source": [
    "agent.reply(\"Who is Ebury's responsible for Client Onboarding?\")"
   ]
  },
  {
   "cell_type": "markdown",
   "id": "d2854c4f-280a-45cb-8c10-691b0d9d8d97",
   "metadata": {
    "jp-MarkdownHeadingCollapsed": true
   },
   "source": [
    "# 4. Embedding Vectors and Vector Databases"
   ]
  },
  {
   "cell_type": "markdown",
   "id": "8ce1fd6f-a9a1-4d36-b596-425a49a47b7b",
   "metadata": {},
   "source": [
    "Consider a very domain-specific question, such as \"My company produces fertilisers. Can I export to Russia in 2023?\". Likely, the LLM does not know that:"
   ]
  },
  {
   "cell_type": "code",
   "execution_count": 52,
   "id": "0f4760a5-5d11-4d2c-94e4-37eef484d6ae",
   "metadata": {},
   "outputs": [
    {
     "name": "stdout",
     "output_type": "stream",
     "text": [
      "As an AI language model, I don't have access to real-time data or the ability to predict future events. Therefore, I cannot provide you with a definitive answer regarding exporting fertilizers to Russia in 2023. \n",
      "\n",
      "To determine whether you can export fertilizers to Russia in 2023, you should consider several factors. These may include trade agreements between your country and Russia, any specific regulations or restrictions on fertilizer imports in Russia, and the current political and economic situation between the two countries.\n",
      "\n",
      "To get accurate and up-to-date information, it is recommended to consult with trade organizations, government agencies, or legal experts specializing in international trade. They can provide you with the most relevant and reliable information regarding exporting fertilizers to Russia in 2023.\n"
     ]
    }
   ],
   "source": [
    "memory = Memory()\n",
    "agent = BaseAgent(memory=memory)\n",
    "\n",
    "agent.reply(\"My company produces fertilisers. Can I export to Russia in 2023?\")"
   ]
  },
  {
   "cell_type": "markdown",
   "id": "b199c953-3f9d-4afb-9c3b-4a52c59c9f0f",
   "metadata": {},
   "source": [
    "How can we use the ideas above to improve the answers that the AI gives?"
   ]
  },
  {
   "cell_type": "markdown",
   "id": "c95fbcad-acd5-4ca7-84c2-95f46e9b622a",
   "metadata": {},
   "source": [
    "Suppose we have access to Ebury's internal documentation: the answer is in there, but we cannot paste the whole corpus into the context! We then need to identify the document which contains the answer, and in it, the paragraph that contains the answer. We are then going to provide only that as context.\n",
    "\n",
    "The way to \"find the relevant paragraph in the corpus\" is to use **embedding vectors**."
   ]
  },
  {
   "cell_type": "markdown",
   "id": "fd26f2f6-ef25-483d-83b2-08922254ce94",
   "metadata": {},
   "source": [
    "Let's start with the simplest type of embedding vector: a \"word embedding\"."
   ]
  },
  {
   "cell_type": "code",
   "execution_count": 53,
   "id": "0d36b929-bf72-4a70-83e9-7139ebc4c742",
   "metadata": {},
   "outputs": [],
   "source": [
    "import gensim.downloader as api"
   ]
  },
  {
   "cell_type": "code",
   "execution_count": 54,
   "id": "5c329bc7-79e6-4d4c-9406-01a71ed54362",
   "metadata": {},
   "outputs": [],
   "source": [
    "model = api.load(\"glove-wiki-gigaword-100\")"
   ]
  },
  {
   "cell_type": "code",
   "execution_count": 55,
   "id": "7866e9bf-14a9-4972-ac63-86f74014608e",
   "metadata": {},
   "outputs": [
    {
     "data": {
      "text/plain": [
       "100"
      ]
     },
     "execution_count": 55,
     "metadata": {},
     "output_type": "execute_result"
    }
   ],
   "source": [
    "vec = model.get_vector(\"beer\")\n",
    "\n",
    "len(vec)"
   ]
  },
  {
   "cell_type": "code",
   "execution_count": 56,
   "id": "772c628a-629c-4caa-8828-c32eb3f98c11",
   "metadata": {},
   "outputs": [
    {
     "data": {
      "text/plain": [
       "array([-0.047204,  0.56615 , -0.29627 , -0.46257 , -0.015033],\n",
       "      dtype=float32)"
      ]
     },
     "execution_count": 56,
     "metadata": {},
     "output_type": "execute_result"
    }
   ],
   "source": [
    "vec[:5]"
   ]
  },
  {
   "cell_type": "code",
   "execution_count": 57,
   "id": "2f5e106a-e86c-4a76-9f0e-eecba008845e",
   "metadata": {},
   "outputs": [
    {
     "data": {
      "text/plain": [
       "[('beer', 0.9999999403953552),\n",
       " ('drink', 0.8182137608528137),\n",
       " ('drinks', 0.7982838153839111),\n",
       " ('liquor', 0.7321157455444336),\n",
       " ('coffee', 0.7253385782241821),\n",
       " ('vodka', 0.7246952056884766),\n",
       " ('wine', 0.7244510054588318),\n",
       " ('bottle', 0.717643141746521),\n",
       " ('beers', 0.6993280649185181),\n",
       " ('bottled', 0.6970836520195007)]"
      ]
     },
     "execution_count": 57,
     "metadata": {},
     "output_type": "execute_result"
    }
   ],
   "source": [
    "model.most_similar(vec)"
   ]
  },
  {
   "cell_type": "markdown",
   "id": "eebf64e4-0957-4880-8e29-f4170a60529c",
   "metadata": {},
   "source": [
    "Let's try to compose vectors, and see if we find something interesting in their meaning."
   ]
  },
  {
   "cell_type": "code",
   "execution_count": 58,
   "id": "3e6256ad-9d29-4b65-bdcf-909e2aa0ec29",
   "metadata": {},
   "outputs": [
    {
     "data": {
      "text/plain": [
       "[('beer', 0.7892547249794006),\n",
       " ('wine', 0.7375332713127136),\n",
       " ('drink', 0.7100510597229004),\n",
       " ('champagne', 0.7068606019020081),\n",
       " ('drinks', 0.6879450082778931),\n",
       " ('bottle', 0.6631824970245361),\n",
       " ('vodka', 0.6605401039123535),\n",
       " ('coffee', 0.6547015309333801),\n",
       " ('liquor', 0.6361646056175232),\n",
       " ('tea', 0.6283336281776428)]"
      ]
     },
     "execution_count": 58,
     "metadata": {},
     "output_type": "execute_result"
    }
   ],
   "source": [
    "vec1 = model.get_vector(\"beer\")\n",
    "vec2 = model.get_vector(\"germany\")\n",
    "vec3 = model.get_vector(\"italy\")\n",
    "\n",
    "new_vec = vec1 - vec2 + vec3\n",
    "\n",
    "model.most_similar(new_vec)"
   ]
  },
  {
   "cell_type": "markdown",
   "id": "29d3e0ca-93f0-41e8-8ca1-978e2a503918",
   "metadata": {},
   "source": [
    "Word embeddings generalize to document embedding: a sentence (and even a full text) can be transformed into a vector, which captures its semantic content."
   ]
  },
  {
   "cell_type": "code",
   "execution_count": 59,
   "id": "2c675aca-f54e-4c9c-9f4b-fc4d6f062af4",
   "metadata": {},
   "outputs": [],
   "source": [
    "from langchain.embeddings import OpenAIEmbeddings"
   ]
  },
  {
   "cell_type": "code",
   "execution_count": 60,
   "id": "2a2b263a-a85c-4cc6-a7dc-35dcf6385c56",
   "metadata": {},
   "outputs": [
    {
     "data": {
      "text/plain": [
       "1536"
      ]
     },
     "execution_count": 60,
     "metadata": {},
     "output_type": "execute_result"
    }
   ],
   "source": [
    "embeddings = OpenAIEmbeddings()\n",
    "\n",
    "vec = embeddings.embed_query(\"The dog plays with the ball.\")\n",
    "\n",
    "len(vec)"
   ]
  },
  {
   "cell_type": "code",
   "execution_count": 61,
   "id": "bbbc3ba8-a5b3-41cd-8111-de0907f13565",
   "metadata": {},
   "outputs": [],
   "source": [
    "vec2 = embeddings.embed_query(\"The hound plays with the ball.\")\n",
    "vec3 = embeddings.embed_query(\"The cat plays with the ball.\")\n",
    "vec4 = embeddings.embed_query(\"Spain is hereby established as a social and democratic State.\")"
   ]
  },
  {
   "cell_type": "code",
   "execution_count": 62,
   "id": "f3359894-1f88-4ca3-ae01-a925284a7929",
   "metadata": {},
   "outputs": [],
   "source": [
    "import numpy as np"
   ]
  },
  {
   "cell_type": "code",
   "execution_count": 63,
   "id": "4f245637-074e-464e-b0e4-9453a89ccaa7",
   "metadata": {},
   "outputs": [],
   "source": [
    "def cosine_similarity(a, b):\n",
    "    a = np.array(a)\n",
    "    b = np.array(b)\n",
    "    return np.dot(a, b)/(np.linalg.norm(a)*np.linalg.norm(b))"
   ]
  },
  {
   "cell_type": "code",
   "execution_count": 64,
   "id": "8d542074-0276-4567-93d4-deef0a99379c",
   "metadata": {},
   "outputs": [
    {
     "data": {
      "text/plain": [
       "0.9562994653334981"
      ]
     },
     "execution_count": 64,
     "metadata": {},
     "output_type": "execute_result"
    }
   ],
   "source": [
    "cosine_similarity(vec, vec2)"
   ]
  },
  {
   "cell_type": "code",
   "execution_count": 65,
   "id": "d62a2fc1-2c12-41fd-b9c6-c2b87217e958",
   "metadata": {},
   "outputs": [
    {
     "data": {
      "text/plain": [
       "0.9496210236373911"
      ]
     },
     "execution_count": 65,
     "metadata": {},
     "output_type": "execute_result"
    }
   ],
   "source": [
    "cosine_similarity(vec, vec3)"
   ]
  },
  {
   "cell_type": "code",
   "execution_count": 66,
   "id": "fabba356-ec62-4dbc-ba4e-f48851be0c07",
   "metadata": {},
   "outputs": [
    {
     "data": {
      "text/plain": [
       "0.718338264586324"
      ]
     },
     "execution_count": 66,
     "metadata": {},
     "output_type": "execute_result"
    }
   ],
   "source": [
    "cosine_similarity(vec, vec4)"
   ]
  },
  {
   "cell_type": "markdown",
   "id": "056d7336-2d66-4720-afb6-ee97691dc518",
   "metadata": {},
   "source": [
    "Now, the idea is simple: given all the documents in the corpus, we split them into text chunks (the \"value\"), and compute the embedding vector of each chunk (the \"key\"). We save each key-value pair in a database which, given its structure, is called a **vector database**.\n",
    "\n",
    "Then, when the user asks a question, we turn the question into an embedding vector, and look for the the most similar vectors among the database keys: we then retrieve the corresponding values (the text chunks)."
   ]
  },
  {
   "cell_type": "markdown",
   "id": "69041c97-6d21-4bf8-946f-672aaf452844",
   "metadata": {},
   "source": [
    "Let's start constructing the vector database:"
   ]
  },
  {
   "cell_type": "code",
   "execution_count": 67,
   "id": "39606717-6b77-4868-90b0-e92934c6a8a3",
   "metadata": {},
   "outputs": [],
   "source": [
    "from langchain.text_splitter import TokenTextSplitter\n",
    "from langchain.document_loaders import UnstructuredPDFLoader"
   ]
  },
  {
   "cell_type": "code",
   "execution_count": 68,
   "id": "250d8be7-5bdb-4350-a1bf-ba1404e052ea",
   "metadata": {},
   "outputs": [],
   "source": [
    "text_splitter = TokenTextSplitter(chunk_size=300, chunk_overlap=0)"
   ]
  },
  {
   "cell_type": "code",
   "execution_count": 69,
   "id": "6acd9033-4ada-4c9e-a157-42d61f9cfb99",
   "metadata": {},
   "outputs": [],
   "source": [
    "files = [\n",
    "    os.path.join('..', 'data', 'sanctions-russia.pdf')\n",
    "]\n",
    "\n",
    "all_docs = []\n",
    "for file in files:\n",
    "    loader = UnstructuredPDFLoader(file)\n",
    "    docs = loader.load_and_split(text_splitter=text_splitter)\n",
    "    all_docs = all_docs + docs"
   ]
  },
  {
   "cell_type": "code",
   "execution_count": 70,
   "id": "90873776-a01c-4120-85a7-ffddc02598ac",
   "metadata": {},
   "outputs": [
    {
     "name": "stdout",
     "output_type": "stream",
     "text": [
      " that the Commission manages a Consolidated List of all designations, which is up to date and available on the EU Sanctions map.\n",
      "\n",
      "As regards the TARIC codes, the TARIC database is regularly updated in order to include all targeted goods.\n",
      "\n",
      "4. Can EU nationals be sanctioned?\n",
      "\n",
      "Last update: 8 April 2022\n",
      "\n",
      "Sanctions adopted pursuant to Article 215 TFEU are to pursue the objectives of the Common Foreign and Security Policy. In line with these objectives, it is for the Council to decide on the scope of sanctions, including on which persons - irrespective their nationality – are subject to these measures.\n",
      "\n",
      "6\n",
      "\n",
      "5. What are the benefits of the sanctions for European citizens?\n",
      "\n",
      "Last update: 8 April 2022\n",
      "\n",
      "Since the beginning of Putin’s aggression against Ukraine, many European citizens have shared their concerns about peace in Europe, shown solidarity with Ukrainian refugees and supported the need for Ukraine to receive political, financial and humanitarian assistance. By aiming to undermine the Kremlin’s ability to pursue the invasion, sanctions are contributing to restoring peace in Ukraine and the region. Together with other EU policies, sanctions are a concrete means to uphold the EU values of human dignity, freedom, democracy, the rule of law and human rights.\n",
      "\n",
      "6. Sanctions are affecting ordinary people in Europe and Russia more than they affect politicians and decision-makers. What is the rationale behind imposing such sanctions? Last update: 8 April 2022\n"
     ]
    }
   ],
   "source": [
    "print(all_docs[5].page_content)"
   ]
  },
  {
   "cell_type": "code",
   "execution_count": 71,
   "id": "0136ee73-7d81-483f-8930-6eeb98a5edf6",
   "metadata": {},
   "outputs": [],
   "source": [
    "from langchain.vectorstores import FAISS"
   ]
  },
  {
   "cell_type": "code",
   "execution_count": 72,
   "id": "d1f895eb-95d5-4813-99d8-4d94c895c78a",
   "metadata": {},
   "outputs": [],
   "source": [
    "embeddings = OpenAIEmbeddings()\n",
    "\n",
    "vdb = FAISS.from_documents(all_docs, embeddings)"
   ]
  },
  {
   "cell_type": "markdown",
   "id": "1fac9218-f236-474b-9e85-9bacb3fdca55",
   "metadata": {},
   "source": [
    "Test it:"
   ]
  },
  {
   "cell_type": "code",
   "execution_count": 73,
   "id": "07f467ef-be1c-4fcd-8aac-8fed3706f292",
   "metadata": {},
   "outputs": [],
   "source": [
    "doc_list = vdb.similarity_search(\"My company produces fertilisers. Can I export to Russia in 2023?\", k=5)"
   ]
  },
  {
   "cell_type": "code",
   "execution_count": 74,
   "id": "886e053c-e607-48fa-aeb2-0dbd915b244c",
   "metadata": {},
   "outputs": [
    {
     "data": {
      "text/plain": [
       "'. EU companies can export plant protection products, herbicides or fertilisers to the Russia (e.g. CN codes e.g. CN codes: HS38089910 for pesticides and 38089323 herbicides). Regarding the involvement of listed persons or restrictions on transactions with certain Russian companies, see questions 4.\\n\\nAs regards imports of fertilisers, a specific treatment applies only to potash fertilisers and fertilisers containing potash: restrictions apply to new contracts, but not to existing ones, until 10 July 2022, and from that date onwards imports would be subject to a quota limit corresponding to the volume of annual imports from Russia, in order to avoid circumvention of the bans applicable for imports from Belarus.\\n\\nEU companies should not be confused by certain caps and restriction on import of certain chemicals from Russia used as compounds for phytosanitary products; those restrictions prohibit the purchase and import of them from Russia into the Union and not the sale and export to Russia of those chemicals from the Union. Import of phytosanitary products in the form of final products is also not restricted.\\n\\nContrary to the EU, Russia has itself imposed restrictions on the export of fertilisers.\\n\\n6. Can EU companies provide financing and financial assistance to Russia to support\\n\\nthe agricultural sector in those areas? Last update: 22 June 2022\\n\\nYes, Council Regulation 833/2014 envisage an exemption for public financial support for trade in this respect. The prohibition'"
      ]
     },
     "execution_count": 74,
     "metadata": {},
     "output_type": "execute_result"
    }
   ],
   "source": [
    "doc_list[0].page_content"
   ]
  },
  {
   "cell_type": "markdown",
   "id": "4ee7b121-70ae-4309-bfe8-a68c09480edd",
   "metadata": {},
   "source": [
    "Assuming that this piece of text contains the answer to the question, we would now like to pass this to the chatbot as context. Of course, we can to this by hand (copy-paste), but then the bot is hardly automatic.\n",
    "\n",
    "Rather, we must give the LLM the **option** to search the vector database. In OpenAI, we can do so via the feature of **function call**."
   ]
  },
  {
   "cell_type": "markdown",
   "id": "fc962050-6989-4e76-80e9-7a8fe41d3e55",
   "metadata": {},
   "source": [
    "# 5. Funcion Call for RAG"
   ]
  },
  {
   "cell_type": "markdown",
   "id": "4c09ca88-5a3e-4987-adfd-480477ad17bf",
   "metadata": {},
   "source": [
    "How do we integrate the vector database search seen above with our chatbot?"
   ]
  },
  {
   "cell_type": "markdown",
   "id": "1b01461a-45b6-456d-8b07-7f2365ef1040",
   "metadata": {},
   "source": [
    "To see this, start from a different problem. Suppose you have a function that perform a google search, returning the top links found:"
   ]
  },
  {
   "cell_type": "code",
   "execution_count": 75,
   "id": "041a1081-fdf7-4b94-8ccd-28133ed8fc4c",
   "metadata": {},
   "outputs": [],
   "source": [
    "from googlesearch import search"
   ]
  },
  {
   "cell_type": "code",
   "execution_count": 76,
   "id": "53b5aa01-f0e8-423e-8ed1-7a82c750e910",
   "metadata": {},
   "outputs": [],
   "source": [
    "def google_search(query):\n",
    "    return [url for url in search(query)]"
   ]
  },
  {
   "cell_type": "code",
   "execution_count": 77,
   "id": "8c1a0dd8-3cf8-44e9-8080-90bdd6e1cc05",
   "metadata": {},
   "outputs": [
    {
     "data": {
      "text/plain": [
       "['https://ebury.com/',\n",
       " 'https://ebury.com/',\n",
       " 'https://www.ebury.es/',\n",
       " 'https://www.ebury.es/ebury-online/',\n",
       " 'https://uk.linkedin.com/company/eburyfintech',\n",
       " 'https://www.ebury.es/que-te-ofrecemos/',\n",
       " 'https://es.linkedin.com/company/eburyfintech',\n",
       " 'https://www.instagram.com/ebury_fintech/',\n",
       " 'https://www.crunchbase.com/organization/ebury',\n",
       " 'https://www.xataka.com/empresas-y-economia/que-hace-ebury-fintech-malaguena-que-banco-santander-ha-invertido-400-millones-euros',\n",
       " 'https://www.laopiniondemalaga.es/malaga/2023/05/08/ebury-refuerza-apuesta-malaga-fintech-87011550.html']"
      ]
     },
     "execution_count": 77,
     "metadata": {},
     "output_type": "execute_result"
    }
   ],
   "source": [
    "search_result = google_search(\"Ebury\")\n",
    "search_result"
   ]
  },
  {
   "cell_type": "markdown",
   "id": "0b5e6407-6925-4a1c-8c52-08f9b7bab9d4",
   "metadata": {},
   "source": [
    "How do we allow the LLM to \"call\" this function? In OpenAI API, we do so using the following structure:"
   ]
  },
  {
   "cell_type": "code",
   "execution_count": 78,
   "id": "04d50fd8-cc0f-4dc6-9a5e-349e4abef99b",
   "metadata": {},
   "outputs": [],
   "source": [
    "google_search_string = \"\"\"\n",
    "{\n",
    "    \"name\": \"google_search\",\n",
    "    \"description\": \"Perform a Google search for a query, obtaining a list of related urls.\",\n",
    "    \"parameters\": {\n",
    "        \"type\": \"object\",\n",
    "        \"properties\": {\n",
    "            \"query\": {\n",
    "                \"type\": \"string\",\n",
    "                \"description\": \"The query you want to search.\"\n",
    "            }\n",
    "        },\n",
    "        \"required\": [\"query\"]\n",
    "    }\n",
    "}\n",
    "\"\"\""
   ]
  },
  {
   "cell_type": "code",
   "execution_count": 79,
   "id": "74fda43f-0137-47f7-86fc-a737cadcd011",
   "metadata": {},
   "outputs": [],
   "source": [
    "import json\n",
    "\n",
    "google_search_json = json.loads(google_search_string)"
   ]
  },
  {
   "cell_type": "markdown",
   "id": "abf813de-e3a1-4ab6-9486-a172397901a6",
   "metadata": {},
   "source": [
    "We now pass this string to the `openai.ChatCompletion.create` call (together with the messages):"
   ]
  },
  {
   "cell_type": "code",
   "execution_count": 80,
   "id": "8e911462-7c4e-43b3-add8-5c26db7b7f19",
   "metadata": {},
   "outputs": [],
   "source": [
    "question = \"What is the url of Ebury?\"\n",
    "\n",
    "messages = [\n",
    "    {\n",
    "        \"role\": \"user\",\n",
    "        \"content\": question\n",
    "    }\n",
    "]\n",
    "\n",
    "response = openai.ChatCompletion.create(\n",
    "    model=\"gpt-3.5-turbo\",\n",
    "    messages=messages,\n",
    "    functions=[google_search_json],\n",
    "    temperature=0\n",
    ")"
   ]
  },
  {
   "cell_type": "markdown",
   "id": "8da4eab5-3ab1-4893-868f-0c40f80386bb",
   "metadata": {},
   "source": [
    "Let's look at the response:"
   ]
  },
  {
   "cell_type": "code",
   "execution_count": 81,
   "id": "02e1b2ba-c67a-4f16-a7f4-f80fe7fe7902",
   "metadata": {},
   "outputs": [
    {
     "name": "stdout",
     "output_type": "stream",
     "text": [
      "{\n",
      "  \"index\": 0,\n",
      "  \"message\": {\n",
      "    \"role\": \"assistant\",\n",
      "    \"content\": null,\n",
      "    \"function_call\": {\n",
      "      \"name\": \"google_search\",\n",
      "      \"arguments\": \"{\\n  \\\"query\\\": \\\"Ebury url\\\"\\n}\"\n",
      "    }\n",
      "  },\n",
      "  \"finish_reason\": \"function_call\"\n",
      "}\n"
     ]
    }
   ],
   "source": [
    "answer = response[\"choices\"][0]\n",
    "print(answer)"
   ]
  },
  {
   "cell_type": "markdown",
   "id": "56a474c8-6091-436e-8633-434eb264fa32",
   "metadata": {},
   "source": [
    "The LLM did not output a message content, but rather a \"function call\". Inside it, it tells us the name of the function it wants to call, and the arguments.\n",
    "\n",
    "As you see, the LLM cannot **directly** run a function: it can only output text! But we can parse this output to actually run the function, and provide it the answer as a 'role' = 'function' message:"
   ]
  },
  {
   "cell_type": "code",
   "execution_count": 82,
   "id": "5cadb4cc-30e8-4f10-8906-fd85155ab228",
   "metadata": {},
   "outputs": [],
   "source": [
    "messages = [\n",
    "    {\n",
    "        \"role\": \"user\",\n",
    "        \"content\": question\n",
    "    },\n",
    "    answer.message,\n",
    "    {\n",
    "        \"role\": \"function\",\n",
    "        \"name\": \"google_search\",\n",
    "        \"content\": search_result[0]\n",
    "    }\n",
    "]\n",
    "\n",
    "response = openai.ChatCompletion.create(\n",
    "    model=\"gpt-3.5-turbo\",\n",
    "    messages=messages,\n",
    "    functions=[google_search_json],\n",
    "    temperature=0\n",
    ")"
   ]
  },
  {
   "cell_type": "code",
   "execution_count": 83,
   "id": "07ede976-9552-4889-af7a-cc0a39284256",
   "metadata": {},
   "outputs": [
    {
     "name": "stdout",
     "output_type": "stream",
     "text": [
      "{\n",
      "  \"index\": 0,\n",
      "  \"message\": {\n",
      "    \"role\": \"assistant\",\n",
      "    \"content\": \"The URL of Ebury is https://ebury.com/.\"\n",
      "  },\n",
      "  \"finish_reason\": \"stop\"\n",
      "}\n"
     ]
    }
   ],
   "source": [
    "answer = response[\"choices\"][0]\n",
    "print(answer)"
   ]
  },
  {
   "cell_type": "markdown",
   "id": "a84991c7-74e1-41b9-81c6-2b76a00eaeda",
   "metadata": {},
   "source": [
    "Now, we automate all this for the `search_documentation` function, which enables the LLM to search internal documentation -- what we call the **knowledge base**."
   ]
  },
  {
   "cell_type": "markdown",
   "id": "4e74a2ad-697b-49e7-b987-459bea0d5d29",
   "metadata": {},
   "source": [
    "First, we define a new class `KnowledgeBase`:"
   ]
  },
  {
   "cell_type": "code",
   "execution_count": 84,
   "id": "bdb1263e-8a33-4c7f-8b77-d55a5d50d2a3",
   "metadata": {},
   "outputs": [],
   "source": [
    "import re"
   ]
  },
  {
   "cell_type": "code",
   "execution_count": 85,
   "id": "33fbd7f1-7cd1-4e30-abe3-f03c3f166395",
   "metadata": {},
   "outputs": [],
   "source": [
    "class KnowledgeBase:\n",
    "    \n",
    "    def __init__(self, vdb, max_chunks=5):\n",
    "        self.vdb = vdb\n",
    "        self.max_chunks = max_chunks\n",
    "        self.function_name = \"search_documentation\"\n",
    "        self.function = json.loads(self.search.__doc__)\n",
    "        \n",
    "    def search(self, query):\n",
    "        \"\"\"\n",
    "        {\n",
    "            \"name\": \"search_documentation\",\n",
    "            \"description\": \"Access information from internal documentation.\",\n",
    "            \"parameters\": {\n",
    "                \"type\": \"object\",\n",
    "                \"properties\": {\n",
    "                    \"query\": {\n",
    "                        \"type\": \"string\",\n",
    "                        \"description\": \"The user's query.\"\n",
    "                    }\n",
    "                },\n",
    "                \"required\": [\"query\"]\n",
    "            }\n",
    "        }\n",
    "        \"\"\"\n",
    "        retrieved = self.vdb.similarity_search(query, k=self.max_chunks)\n",
    "        context = {}\n",
    "        for i, doc in enumerate(retrieved):\n",
    "            file_path = doc.metadata[\"source\"]\n",
    "            file_name = os.path.normpath(file_path).split(os.sep)[-1]\n",
    "            title = f\"INFORMATION {i + 1} (from {file_name})\"\n",
    "            content = re.sub(\"\\s+\", \" \", doc.page_content)\n",
    "            context[title] = content\n",
    "        return str(context)"
   ]
  },
  {
   "cell_type": "markdown",
   "id": "3c7e4e2f-feca-40a7-b83e-cd60a1708507",
   "metadata": {},
   "source": [
    "The docstring of this function, jsonized into the attribute `function`, is what we pass to OpenAI's API: it tells the LLM that, if it wants to access information from internal documentation, it can do so by calling the function \"search_documentation\" with input the query (a string)."
   ]
  },
  {
   "cell_type": "markdown",
   "id": "dd4f4f5b-bc99-4067-aea5-e95c66c552c9",
   "metadata": {},
   "source": [
    "In order for this to work, we must modify the `BaseAgent`:"
   ]
  },
  {
   "cell_type": "code",
   "execution_count": 86,
   "id": "907f57be-2619-4fb7-a861-5ebdde9ee2f0",
   "metadata": {},
   "outputs": [],
   "source": [
    "class BaseAgent:\n",
    "    \n",
    "    def __init__(self, memory, knowledge_base, model=\"gpt-3.5-turbo\", prices=[0.0015, 0.0020]):\n",
    "        self.memory = memory\n",
    "        self.knowledge_base = knowledge_base\n",
    "        self.model = model\n",
    "        self.prompt_cost = prices[0]\n",
    "        self.completion_cost = prices[1]\n",
    "        self.cost_list = []\n",
    "        self.total_cost = 0\n",
    "        \n",
    "    def reply(self, question):\n",
    "\n",
    "        human_message = {\n",
    "            \"role\": \"user\",\n",
    "            \"content\": question\n",
    "        }\n",
    "        self.memory.add(human_message)\n",
    "\n",
    "        answer = False\n",
    "        while not answer:\n",
    "            \n",
    "            agent_message = self.generate_response()\n",
    "            self.memory.add(agent_message)\n",
    "            \n",
    "            if agent_message.content is not None:\n",
    "                answer = agent_message.content\n",
    "            \n",
    "            else:\n",
    "                function_call = agent_message.function_call\n",
    "                function_name = function_call.name\n",
    "                kwargs = json.loads(function_call.arguments)\n",
    "                \n",
    "                print(f\"[Agent calling function {function_name} with arguments {kwargs}]\\n\")\n",
    "                \n",
    "                if function_name == self.knowledge_base.function_name:\n",
    "                    function_output = self.knowledge_base.search(**kwargs)\n",
    "                    function_message = {\n",
    "                        \"role\": \"function\",\n",
    "                        \"name\": function_name,\n",
    "                        \"content\": function_output\n",
    "                    }\n",
    "                    self.memory.add(function_message)\n",
    "                \n",
    "                else:\n",
    "                    function_output = \"WARNING: Function not found!\"\n",
    "        \n",
    "        print(answer)\n",
    "\n",
    "    def generate_response(self):\n",
    "        \n",
    "        self.memory.delete_history()\n",
    "        \n",
    "        response = openai.ChatCompletion.create(\n",
    "            model=self.model,\n",
    "            messages=self.memory.messages,\n",
    "            functions=[self.knowledge_base.function],\n",
    "            temperature=0\n",
    "        )\n",
    "\n",
    "        self.calculate_cost(response.usage)\n",
    "\n",
    "        agent_message = response.choices[0].message\n",
    "        \n",
    "        return agent_message\n",
    "    \n",
    "    def calculate_cost(self, usage):\n",
    "        cost = (usage.prompt_tokens * self.prompt_cost + usage.completion_tokens * self.completion_cost)/1000\n",
    "        self.cost_list.append(cost)\n",
    "        self.total_cost += cost"
   ]
  },
  {
   "cell_type": "markdown",
   "id": "203a0448-917d-4966-b8ec-1b7907d56aff",
   "metadata": {},
   "source": [
    "Finally, we need to make a modification to the `Memory` class:"
   ]
  },
  {
   "cell_type": "code",
   "execution_count": 87,
   "id": "c3a53dfd-5ee8-48dc-8ced-0e6636da15f6",
   "metadata": {},
   "outputs": [],
   "source": [
    "class Memory:\n",
    "    \n",
    "    def __init__(self, initial_prompt=None, max_tokens=3000):\n",
    "        if initial_prompt is None:\n",
    "            initial_prompt = \"\"\n",
    "        self.messages = [\n",
    "            {\n",
    "                \"role\": \"system\",\n",
    "                \"content\": initial_prompt\n",
    "            }\n",
    "        ]\n",
    "        self.max_tokens = max_tokens\n",
    "        self.encoding = tiktoken.get_encoding(\"cl100k_base\")\n",
    "        \n",
    "    def add(self, message):\n",
    "        self.messages.append(dict(message))\n",
    "\n",
    "    def delete_history(self):\n",
    "        while True:\n",
    "            total_tokens = 0\n",
    "            for message in self.messages:\n",
    "                if message[\"content\"] != None:\n",
    "                    message_tokens = len(self.encoding.encode(message[\"content\"]))\n",
    "                    total_tokens += message_tokens\n",
    "            if total_tokens > self.max_tokens:\n",
    "                self.messages[1:] = self.messages[2:]\n",
    "            else:\n",
    "                return\n",
    "\n",
    "    def __str__(self):\n",
    "        return \"\\n\".join([str(message) for message in self.messages])"
   ]
  },
  {
   "cell_type": "markdown",
   "id": "14e8a96a-b6f6-4ccb-a8a3-1d0887ee9ed1",
   "metadata": {},
   "source": [
    "Test it:"
   ]
  },
  {
   "cell_type": "code",
   "execution_count": 88,
   "id": "cb8da796-79d9-443f-9e29-e5ded15f118d",
   "metadata": {},
   "outputs": [],
   "source": [
    "initial_prompt = \"\"\"\n",
    "Answer the user's question/request.\n",
    "If you are unsure, you can consult the internal documentation by calling the function 'search_documentation'.\n",
    "\"\"\"\n",
    "\n",
    "memory = Memory(initial_prompt=initial_prompt)\n",
    "knowledge_base = KnowledgeBase(vdb)\n",
    "agent = BaseAgent(memory=memory, knowledge_base=knowledge_base, model='gpt-4')"
   ]
  },
  {
   "cell_type": "code",
   "execution_count": 89,
   "id": "a119c705-40af-4258-9c33-39185e24bbd7",
   "metadata": {},
   "outputs": [
    {
     "name": "stdout",
     "output_type": "stream",
     "text": [
      "[Agent calling function search_documentation with arguments {'query': 'exporting luxury goods to Russia'}]\n",
      "\n",
      "According to the EU regulations, EU nationals or EU companies are prohibited from providing luxury goods to a person in Russia or for use in Russia. This includes the sale, supply, transfer, or export, directly or indirectly, of luxury goods. The prohibition applies not only in the territory of the Union but also to any national of a Member State, and to any legal person incorporated or constituted under the law of a Member State, irrespective of where that person or legal person is.\n",
      "\n",
      "However, if the goods have been imported by a Russian person or company before the imposition of sanctions and are now being sold in Russia by these companies, the prohibition would not apply. There is also an exception for goods necessary for the official purposes of diplomatic or consular missions of Member States or partner countries in Russia, or of international organizations enjoying immunities in accordance with international law. The exception also applies to the personal effects of their staff.\n",
      "\n",
      "Please note that EU operators should have in place adequate due diligence procedures to ensure that their exports are not diverted to Russia – especially in case of transshipments via Russia. This could include, for instance, contractual clauses with their third-country business partners giving rise to liability in case the latter re-export the items to Russia, as well as ex post verifications.\n"
     ]
    }
   ],
   "source": [
    "agent.reply(\"My company produces luxury goods. Can I export to Russia?\")"
   ]
  },
  {
   "cell_type": "markdown",
   "id": "6790e255-8f5a-4647-9a89-409687d904e6",
   "metadata": {},
   "source": [
    "We can take a look at the memory, to see what happened:"
   ]
  },
  {
   "cell_type": "code",
   "execution_count": 90,
   "id": "d0e7a83c-3286-4f7d-bf4a-89b6e050b63a",
   "metadata": {},
   "outputs": [
    {
     "name": "stdout",
     "output_type": "stream",
     "text": [
      "{'role': 'system', 'content': \"\\nAnswer the user's question/request.\\nIf you are unsure, you can consult the internal documentation by calling the function 'search_documentation'.\\n\"}\n",
      "{'role': 'user', 'content': 'My company produces luxury goods. Can I export to Russia?'}\n",
      "{'role': 'assistant', 'content': None, 'function_call': <OpenAIObject at 0x7f623bd0fef0> JSON: {\n",
      "  \"name\": \"search_documentation\",\n",
      "  \"arguments\": \"{\\n  \\\"query\\\": \\\"exporting luxury goods to Russia\\\"\\n}\"\n",
      "}}\n",
      "{'role': 'function', 'name': 'search_documentation', 'content': \"{'INFORMATION 1 (from sanctions-russia.pdf)': 'EU nationals or EU companies are prohibited from providing luxury goods as defined in Article 3h of Regulation (EU) No 833/2014 to a person in Russia or for use in Russia even if the goods have already been imported in the country. EU operators are furthermore prohibited from participating, knowingly and intentionally, in activities the object or effect of which is to circumvent these export restrictions. However, EU sanctions do not apply extra-territorially. Therefore, if the bottles have been imported by a Russian person or company before the imposition of sanctions and are now being sold in Russia by these companies, the prohibition would not apply. Note that there is also an exception applying to goods which are necessary for the official purposes of diplomatic or consular missions of Member States or partner countries in Russia, or of international organisations enjoying immunities in accordance with international law. The exception also applies to the personal effects of their staff. 6. What is the purpose of the derogation introduced for the transfer and export of cultural goods (Article 3h(4))? Last update: 2 May 2022 The EU sanctions on luxury goods transferred or exported from the EU to Russia are not meant to hamper cultural cooperation with Russia. A clarification is introduced for the safe and prompt return to Russia of cultural goods, such as works of art, which are on loan in the EU in the context of formal cultural cooperation with Russia. 7.', 'INFORMATION 2 (from sanctions-russia.pdf)': ' Russia towards further destinations such as Central Asia? Last update: 2 May 2022 In principle, the ban would not apply here. However, the goods must be genuinely destined to a third country and for use outside Russia. Therefore, EU operators should have in place adequate due diligence procedures to ensure that their exports are not diverted to Russia – especially in case of transshipments via Russia. This could include, for instance, contractual clauses with their third-country business partners giving rise to liability in case the latter re-export the items to Russia, as well as ex post verifications. Please also note that under Article 12, EU operators cannot willingly or intentionally circumvent the prohibitions in place. 5. Can goods of over 300€ already imported in Russia be sold? Last update: 2 May 2022 Article 3h of Regulation (EU) No 833/2014 as amended by Regulation (EU) 2022/428 prohibits the sale, supply, transfer or export, directly or indirectly, of luxury goods. The prohibition is therefore broader than exports. Article 13, which sets out the jurisdictional scope of the restrictive measures laid down in Regulation (EU) No 833/2014 provides that these do not only apply in the territory of the Union but also to any national of a Member State, and to any legal person incorporated or constituted under the law of a Member State, irrespective of where that person or legal person is. Accordingly: ', 'INFORMATION 3 (from sanctions-russia.pdf)': ', transmission of working knowledge or skills or consulting services, including verbal forms of assistance”. Accordingly, it is prohibited to provide training for any goods and technology falling under the scope of Article 3f to seafarers physically located in Russia, as well as to seafarers who would put such training to use in Russia. By virtue of the non-circumvention clause (laid down in Article 12) it is prohibited to participate, knowingly and intentionally, in activities the object or effect of which is to circumvent prohibitions in this Regulation. Provision of technical assistance related to these maritime navigation goods and technology to Russian nationals outside of Russia is not prohibited, unless there is evidence that such technical assistance would be used in Russia. 4. LUXURY GOODS RELATED PROVISION: ARTICLE 3h OF COUNCIL REGULATION 833/2014 1. How is the EUR 300 value to be assessed? Last update: 2 May 2022 The EUR 300 value is to be assessed based on the statistical value of the goods in the export declaration (data element 99 06 000 000 or 8/6 or Box 46 of the Single Administrative Document (SAD)). The statistical value is defined in section 10 of Annex V of Commission Implementing Regulation (EU) 2020/1197 as the price actually paid or payable for the exported goods, excluding arbitrary or fictitious values. It must be adjusted, where necessary, in such a', 'INFORMATION 4 (from sanctions-russia.pdf)': ' Union goods to be exported to Russia, or non-Union goods to be re-exported to Russia have to be covered by an export or a re-export declaration, respectively. Where the goods fall within the scope of the sanctions against Russia and their movement is subject to an export authorisation in accordance with the Sanctions Regulation, the exporter has to possess an authorisation also in that respect, accompanied by the customs declaration. Where certain goods or shipments are exempted from the sanctions in place and the Sanctions Regulation does not provide for specific supporting documentation as proof of the exemption, the form or type of such supporting documentation may be determined by national competent authorities. Therefore, the economic operators concerned are strongly recommended to consult with their competent authorities, in order to identify the documents which need to accompany the shipments of goods affected by the Sanctions Regulation. WORK WITH PARTNER COUNTRIES 52. Your approach has been closely aligned with the United States, do you expect other countries to become “partner countries”? Last update: 16 March 2022 The scope of export restrictions has been closely coordinated with those countries that are expected to apply substantially equivalent trade measures. This is the case in particular for the U.S., where our cooperation builds on our engagement in the framework of the EU-U.S. Trade and Technology Council. Our cooperation has been stepped up following the adoption of the measures in order to ensure adequate coordination and', 'INFORMATION 5 (from sanctions-russia.pdf)': ' Russia and to ensure legal clarity, Russia was removed from the list of destinations covered by those Union general export authorisations, by means of a delegated regulation amending the relevant Annexes to the EU Dual-Use Regulation13. The delegated regulation entered into force on 5 May 2022. 41. What is the effect of these sanctions on goods originating from a non-EU jurisdiction that are transiting through a Member State with Russia as final destination? Do the measures apply for transhipments via an EU country? Last update: 16 March 2022 Goods located in the EU having Russia as a final destination, and which are included in the sanctions list, fall under the scope of Articles 2, 2a and 2b of the Sanctions Regulation. The prohibition to sell, supply, transfer or export these goods, directly or indirectly, includes the prohibition to transit via the EU territory. Transit of prohibited goods between third countries across an EU country is thus prohibited. External transit, transhipment, reshipment, re-exported from a free zone, temporary stored and 13 Commission Delegated Regulation (EU) 2022/699 of 3 May 2022 amending Regulation (EU) 2021/821 of the European Parliament and of the Council by removing Russia as a destination from the scope of Union general export authorisations directly re-exported from a temporary storage facility, introduced into the customs territory of the Union on the same vessel or aircraft that will'}\"}\n",
      "{'role': 'assistant', 'content': 'According to the EU regulations, EU nationals or EU companies are prohibited from providing luxury goods to a person in Russia or for use in Russia. This includes the sale, supply, transfer, or export, directly or indirectly, of luxury goods. The prohibition applies not only in the territory of the Union but also to any national of a Member State, and to any legal person incorporated or constituted under the law of a Member State, irrespective of where that person or legal person is.\\n\\nHowever, if the goods have been imported by a Russian person or company before the imposition of sanctions and are now being sold in Russia by these companies, the prohibition would not apply. There is also an exception for goods necessary for the official purposes of diplomatic or consular missions of Member States or partner countries in Russia, or of international organizations enjoying immunities in accordance with international law. The exception also applies to the personal effects of their staff.\\n\\nPlease note that EU operators should have in place adequate due diligence procedures to ensure that their exports are not diverted to Russia – especially in case of transshipments via Russia. This could include, for instance, contractual clauses with their third-country business partners giving rise to liability in case the latter re-export the items to Russia, as well as ex post verifications.'}\n"
     ]
    }
   ],
   "source": [
    "print(agent.memory)"
   ]
  },
  {
   "cell_type": "markdown",
   "id": "336c00f4-9ba3-450d-b918-d2e4e33f250f",
   "metadata": {},
   "source": [
    "# 6. A Webapp for your LLM"
   ]
  },
  {
   "cell_type": "markdown",
   "id": "0d46f56a-2f8c-42aa-9ca1-a0c9f3731de1",
   "metadata": {},
   "source": [
    "Now we have all the core pieces for our chatbot, and can therefore move out of the notebook to an actual script. What we want to do is\n",
    "\n",
    "1. Put some order in the code\n",
    "2. Give the chatbot an interface, i.e., build a webapp\n",
    "\n",
    "I have already done that: all the code can be found in the `src` folder."
   ]
  },
  {
   "cell_type": "markdown",
   "id": "1a36a824-c4fb-4b7c-93b4-aa6dd0acfb4f",
   "metadata": {},
   "source": [
    "# 7. Competition: Can your Chatbot Answer Correctly to our Questions?"
   ]
  },
  {
   "cell_type": "markdown",
   "id": "f399e123-b926-44d2-a598-e853dea58d87",
   "metadata": {},
   "source": [
    "Competition! You have 20 minutes to play around with the prompt (or, if you have other ideas, feel free to try them!): the purpose is to answer correctly 3 questions that will be revealed at the after the 20 minutes! Hints:\n",
    "\n",
    "- One question will be general knowledge.\n",
    "- One will require a little mathematical reasoning.\n",
    "- One will be related to our internal documentation."
   ]
  }
 ],
 "metadata": {
  "kernelspec": {
   "display_name": "Python 3 (ipykernel)",
   "language": "python",
   "name": "python3"
  },
  "language_info": {
   "codemirror_mode": {
    "name": "ipython",
    "version": 3
   },
   "file_extension": ".py",
   "mimetype": "text/x-python",
   "name": "python",
   "nbconvert_exporter": "python",
   "pygments_lexer": "ipython3",
   "version": "3.9.13"
  }
 },
 "nbformat": 4,
 "nbformat_minor": 5
}
